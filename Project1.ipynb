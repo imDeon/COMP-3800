{
 "cells": [
  {
   "cell_type": "markdown",
   "id": "61fdbd11",
   "metadata": {},
   "source": [
    "My data source is a csv of data breaches that have happened. It lists what kind of breach it was, how many records were compromised, who was breached, when it happened, how it happened, and the type of organization affected.\n",
    "Link: https://www.kaggle.com/datasets/thedevastator/data-breaches-a-comprehensive-list"
   ]
  },
  {
   "cell_type": "markdown",
   "id": "eded0d70",
   "metadata": {},
   "source": [
    "Inquiry question: What are the common ways data breaches occur and how could they be avoided? \n",
    "\n",
    "Sub: What was the most popular method used to breach?\n",
    "Sub: What industry is breached the most? \n",
    "Sub: Are there any entities frequently targeted?"
   ]
  },
  {
   "cell_type": "markdown",
   "id": "0922570e",
   "metadata": {},
   "source": [
    "Data Cleaning:"
   ]
  },
  {
   "cell_type": "code",
   "execution_count": 45,
   "id": "fccf3560",
   "metadata": {},
   "outputs": [
    {
     "name": "stdout",
     "output_type": "stream",
     "text": [
      "Shape: (352, 7)\n",
      "Index(['Entity', 'Year', 'Records', 'Organization type', 'Method'], dtype='object')\n",
      "Missing data:\n",
      "Entity               0\n",
      "Year                 0\n",
      "Records              2\n",
      "Organization type    0\n",
      "Method               1\n",
      "dtype: int64\n",
      "Entity               0\n",
      "Year                 0\n",
      "Records              0\n",
      "Organization type    0\n",
      "Method               0\n",
      "dtype: int64\n"
     ]
    }
   ],
   "source": [
    "import pandas as pd\n",
    "import numpy as np\n",
    "from matplotlib import pyplot as plt\n",
    "\n",
    "\n",
    "df = pd.read_csv('breach.csv')\n",
    "\n",
    "# Remove Unwanted Columns\n",
    "print(\"Shape:\", df.shape)\n",
    "remove = ['Unnamed: 0','Sources',]\n",
    "df.drop(remove, inplace=True, axis=1)\n",
    "print(df.columns)\n",
    "\n",
    "# Checking Missing Values\n",
    "missing = df.isnull().sum()\n",
    "print('Missing data:')\n",
    "print(missing)\n",
    "\n",
    "# Removing Missing Values\n",
    "df2 = df.dropna()\n",
    "print(df2.isnull().sum())\n"
   ]
  },
  {
   "cell_type": "code",
   "execution_count": 46,
   "id": "430dcb44",
   "metadata": {},
   "outputs": [
    {
     "name": "stdout",
     "output_type": "stream",
     "text": [
      "(349, 5)\n",
      "(349, 5)\n"
     ]
    }
   ],
   "source": [
    "# No Duplicates\n",
    "print(df2.shape)\n",
    "df2 = df2.drop_duplicates()\n",
    "print(df2.shape)"
   ]
  },
  {
   "cell_type": "code",
   "execution_count": 47,
   "id": "8f15884e",
   "metadata": {},
   "outputs": [
    {
     "name": "stdout",
     "output_type": "stream",
     "text": [
      "['2016' '2020' '2013' '2019' '2017' '2018' '2005' '2021' '2015' '2004'\n",
      " '2006' '2014' '2008' '2010' '2009' '2012' '2011' '2007' '2019-2020'\n",
      " '2018-2019' '2014 and 2015' '2022']\n",
      "Entity                object\n",
      "Year                 float64\n",
      "Records              float64\n",
      "Organization type     object\n",
      "Method                object\n",
      "dtype: object\n"
     ]
    }
   ],
   "source": [
    "# Valid Data Types\n",
    "unique_years = df2['Year'].unique()\n",
    "print(unique_years)\n",
    "df2['Year'] = pd.to_numeric(df2['Year'], errors='coerce', downcast='integer')\n",
    "df2.dropna(subset=['Year'], inplace=True)\n",
    "df2['Records'] = pd.to_numeric(df2['Records'], errors='coerce', downcast='integer')\n",
    "\n",
    "\n",
    "print(df2.dtypes)\n",
    "\n"
   ]
  },
  {
   "cell_type": "code",
   "execution_count": 48,
   "id": "b4fac3a0",
   "metadata": {},
   "outputs": [
    {
     "name": "stdout",
     "output_type": "stream",
     "text": [
      "Unique values for Entity:\n",
      "['21st Century Oncology' '500px' 'Accendo Insurance Co.'\n",
      " 'Adobe Systems Incorporated' 'Adobe Inc.' 'Advocate Medical Group'\n",
      " 'AerServ (subsidiary of InMobi)' 'Affinity Health Plan, Inc.' 'Airtel'\n",
      " 'Air Canada' 'Amazon Japan G.K.' 'TD Ameritrade' 'Ancestry.com'\n",
      " 'Animal Jam' 'Ankle & Foot Center of Tampa Bay, Inc.' 'Anthem Inc.' 'AOL'\n",
      " 'Apple, Inc./BlueToad' 'Apple' 'Apple Health Medicaid' 'Ashley Madison'\n",
      " 'AT&T' 'Atraf' 'Auction.co.kr' 'Australian Immigration Department'\n",
      " 'Australian National University' 'Automatic Data Processing'\n",
      " 'AvMed, Inc.' \"Bailey's Inc.\" 'The Bank of New York Mellon'\n",
      " 'Bank of America' 'Barnes & Noble' 'Bell Canada' 'Benesse' 'Betfair'\n",
      " 'Bethesda Game Studios' 'Betsson Group' 'Blank Media Games'\n",
      " 'Blizzard Entertainment' 'BlueCross BlueShield of Tennessee'\n",
      " 'BMO and Simplii' '2018 British Airways cyberattack' 'British Airways'\n",
      " '2019 Bulgarian revenue agency hack'\n",
      " 'California Department of Child Support Services' 'Canva' 'Capcom'\n",
      " 'Capital One'\n",
      " 'CardSystems Solutions Inc. (MasterCard, Visa, Discover Financial Services and American Express)'\n",
      " 'Cathay Pacific Airways' 'CareFirst BlueCross Blue Shield - Maryland'\n",
      " 'Central Coast Credit Union' 'Central Hudson Gas & Electric'\n",
      " 'CheckFree Corporation' 'CheckPeople' 'China Software Developer Network'\n",
      " 'Chinese gaming websites (three: Duowan, 7K7K, 178.com)' 'Citigroup'\n",
      " 'City and Hackney Teaching Primary Care Trust' 'Clearview AI'\n",
      " 'Colorado government' 'Community Health Systems'\n",
      " 'Philippines Commission on Elections' 'Compass Bank'\n",
      " 'Countrywide Financial Corp' 'Centers for Medicare & Medicaid Services'\n",
      " 'Cox Communications' 'Crescent Health Inc., Walgreens' 'CVS' 'CyberServe'\n",
      " 'Dai Nippon Printing'\n",
      " 'Data Processors International (MasterCard, Visa, Discover Financial Services and American Express)'\n",
      " 'Defense Integrated Data Center (South Korea)' 'Dedalus' 'Deloitte'\n",
      " 'US Department of Homeland Security' 'Desjardins'\n",
      " \"Domino's Pizza (France)\" 'DoorDash' 'UK Driving Standards Agency'\n",
      " 'Dropbox' 'Drupal' 'DSW Inc.' 'Dubsmash' 'Dun & Bradstreet' 'eBay'\n",
      " 'Educational Credit Management Corporation' 'Eisenhower Medical Center'\n",
      " 'ElasticSearch' 'Embassy Cables' 'Emergency Healthcare Physicians, Ltd.'\n",
      " 'Emory Healthcare' 'Equifax' 'European Central Bank' 'Evernote' 'Exactis'\n",
      " 'Excellus BlueCross BlueShield' 'Experian - T-Mobile US' 'EyeWire'\n",
      " 'Facebook' 'Fast Retailing' 'Federal Reserve Bank of Cleveland'\n",
      " 'Fidelity National Information Services' 'First American Corporation'\n",
      " 'FireEye' 'Florida Department of Juvenile Justice'\n",
      " 'Friend Finder Networks' 'Funimation' 'Formspring' 'Unknown' 'Gamigo'\n",
      " 'Gap Inc.' 'Gawker' 'Global Payments' 'Gmail' 'Google Plus'\n",
      " 'Greek government' 'Grozio Chirurgija' 'GS Caltex' 'Gyft'\n",
      " 'Hannaford Brothers Supermarket Chain' 'HauteLook' 'Health Net'\n",
      " 'Health Net\\xa0— IBM' 'Health Sciences Authority (Singapore)'\n",
      " 'Health Service Executive' 'Heartland' 'Heathrow Airport'\n",
      " 'Hewlett Packard' 'Home Depot' 'Honda Canada' 'Hyatt Hotels' 'Iberdrola'\n",
      " 'Instagram' 'Internal Revenue Service'\n",
      " 'International Committee of the Red Cross' 'Inuvik hospital'\n",
      " 'Iranian banks (three: Saderat, Eghtesad Novin, and Saman)'\n",
      " 'Japan Pension Service' 'Japanet Takata'\n",
      " 'Jefferson County, West Virginia' 'JP Morgan Chase' 'Justdial' 'KDDI'\n",
      " 'Kirkwood Community College' 'KM.RU' 'Koodo Mobile' 'Korea Credit Bureau'\n",
      " 'Kroll Background America' 'KT Corporation' 'LexisNexis' \"Landry's, Inc.\"\n",
      " 'Les Éditions Protégez-vous' 'LifeLabs'\n",
      " 'Lincoln Medical & Mental Health Center' 'LinkedIn, eHarmony, Last.fm'\n",
      " 'Living Social' 'MacRumors.com' 'Mandarin Oriental Hotels'\n",
      " 'Marriott International' 'Massachusetts Government'\n",
      " 'Massive American business hack including 7-Eleven and Nasdaq'\n",
      " 'US Medicaid' 'Medical Informatics Engineering'\n",
      " 'Memorial Healthcare System' 'Michaels' 'Microsoft'\n",
      " 'Microsoft Exchange servers' 'Militarysingles.com'\n",
      " 'Ministry of Education (Chile)' 'Ministry of Health (Singapore)'\n",
      " 'Mitsubishi Tokyo UFJ Bank' 'MongoDB' 'Mobile TeleSystems (MTS)'\n",
      " 'Monster.com' 'Morgan Stanley Smith Barney' 'Morinaga Confectionery'\n",
      " 'Mozilla' 'MyHeritage' 'NASDAQ' 'Natural Grocers' 'NEC Networks, LLC'\n",
      " 'Neiman Marcus' 'Nemours Foundation' 'Network Solutions'\n",
      " 'New York City Health & Hospitals Corp.' 'New York State Electric & Gas'\n",
      " 'New York Taxis' 'Nexon Korea Corp' 'NHS' 'Nintendo (Club Nintendo)'\n",
      " 'Nintendo (Nintendo Account)' 'Nippon Television' 'Nival Networks'\n",
      " 'Norwegian Tax Administration' 'Now:Pensions' 'Ofcom'\n",
      " 'US Office of Personnel Management'\n",
      " 'Office of the Texas Attorney General' 'Ohio State University' 'Orbitz'\n",
      " 'Oregon Department of Transportation' 'OVH' 'Patreon' 'PayPay' 'Popsugar'\n",
      " 'Premera' 'Puerto Rico Department of Health' 'Quest Diagnostics' 'Quora'\n",
      " 'Rakuten' 'Rambler.ru' 'RBS Worldpay' 'Reddit' 'Restaurant Depot'\n",
      " 'RockYou!' 'Rosen Hotels' 'Sakai City, Japan'\n",
      " 'San Francisco Public Utilities Commission' 'Scottrade' 'Scribd'\n",
      " 'Seacoast Radiology, PA' 'Sega'\n",
      " 'Service Personnel and Veterans Agency (UK)' 'ShopBack' 'SingHealth'\n",
      " 'Slack' 'SlickWraps' 'SnapChat' 'SolarWinds' 'Sony Online Entertainment'\n",
      " 'Sony Pictures' 'Sony PlayStation Network' 'South Africa police'\n",
      " 'South Carolina Government' 'South Shore Hospital, Massachusetts'\n",
      " 'Southern California Medical-Legal Consultants'\n",
      " 'Spartanburg Regional Healthcare System' 'Stanford University'\n",
      " 'Starbucks'\n",
      " 'Starwoodincluding Westin Hotels & Resorts and Sheraton Hotels and Resorts'\n",
      " 'State of Texas' 'Steam' 'StockX' 'Stratfor' 'Supervalu'\n",
      " 'Sutter Medical Center' 'Syrian government (Syria Files)' 'Taobao'\n",
      " 'Taringa!' 'Target Corporation' 'TaxSlayer.com' 'TD Bank'\n",
      " 'TerraCom & YourTel' 'Tetrad' 'Texas Lottery'\n",
      " 'Ticketfly (subsidiary of Eventbrite)' 'Tianya Club' 'TikTok'\n",
      " 'TK / TJ Maxx' 'T-Mobile, Deutsche Telekom' 'T-Mobile' 'Tricare'\n",
      " 'Triple-S Salud, Inc.' 'Truecaller' 'Trump Hotels' 'Tumblr' 'Twitch'\n",
      " 'Twitter' 'Typeform' 'Uber' 'Ubisoft' 'Ubuntu'\n",
      " 'UCLA Medical Center, Santa Monica' 'UK Home Office'\n",
      " 'UK Ministry of Defence' 'UK Revenue & Customs'\n",
      " 'Universiti Teknologi MARA' 'Under Armour'\n",
      " 'University of California, Berkeley'\n",
      " 'University of Maryland, College Park' 'University of Central Florida'\n",
      " 'University of Miami' 'University of Utah Hospital & Clinics'\n",
      " 'University of Wisconsin–Milwaukee' 'United States Postal Service' 'UPS'\n",
      " 'U.S. Army' 'U.S. Army(classified Iraq War documents)'\n",
      " 'U.S. Department of Defense' 'U.S. Department of Veteran Affairs'\n",
      " 'U.S. federal government (2020 United States federal government data breach)'\n",
      " 'U.S. law enforcement (70 different agencies)'\n",
      " 'National Archives and Records Administration (U.S. military veterans records)'\n",
      " 'U.S. government (United States diplomatic cables leak)'\n",
      " 'National Guard of the United States' 'Vastaamo' 'Verizon Communications'\n",
      " 'View Media' 'Virgin Media' 'Virginia Department of Health'\n",
      " 'Virginia Prescription Monitoring Program' 'Vodafone' 'VTech' 'Walmart'\n",
      " 'Washington Post' 'Washington State court system' 'Wattpad'\n",
      " 'Wawa (company)' 'Weebly' \"Wendy's\" 'Westpac' 'Woodruff Arts Center'\n",
      " 'Writerspace.com' 'Xat.com' 'Yahoo' 'Yahoo Japan' 'Yahoo! Voices'\n",
      " 'Yale University' 'YouTube' 'Zappos' 'Zynga'\n",
      " 'Unknown agency(believed to be tied to United States Census Bureau)'\n",
      " 'National Health Information Center (NCZI) of Slovakia'\n",
      " '50 companies and government institutions' 'IKEA']\n",
      "Unique values for Organization type:\n",
      "['healthcare' 'social networking' 'tech' 'advertising'\n",
      " 'telecommunications' 'transport' 'web' 'financial' 'gaming'\n",
      " 'tech, retail' 'telecoms' 'dating' 'government' 'academic' 'retail'\n",
      " 'educational services' 'gambling' 'banking' 'game' 'energy'\n",
      " 'background check' 'information technology' 'hosting provider' 'military'\n",
      " 'health' 'consulting, accounting' 'messaging app'\n",
      " 'financial, credit reporting' 'data broker' 'social network'\n",
      " 'financial service company' 'Information Security'\n",
      " 'personal and demographic data about residents and their properties of US'\n",
      " 'hotel' 'humanitarian' 'special public corporation' 'shopping'\n",
      " 'local search' 'mobile carrier' 'restaurant' 'publisher (magazine)'\n",
      " 'government, healthcare' 'software' 'web, military' 'online shopping'\n",
      " 'genealogy' 'media' 'telecom' 'QR code payment' 'fashion'\n",
      " 'Clinical Laboratory' 'Question & Answer' 'web, gaming'\n",
      " 'government, database' 'phone accessories' 'web, tech'\n",
      " 'Network Monitoring' 'market analysis' 'ticket distribution'\n",
      " 'social media' 'military, healthcare' 'Telephone directory'\n",
      " 'Consumer Goods' 'government, military' 'online marketing' 'arts group'\n",
      " 'tech, web' 'various']\n",
      "Unique values for Method:\n",
      "['hacked' 'poor security' 'lost / stolen media' 'accidentally published'\n",
      " 'inside job, hacked' 'lost / stolen computer' 'unknown'\n",
      " 'unsecured S3 bucket' 'inside job' 'accidentally uploaded'\n",
      " 'poor security / hacked' 'Poor security' 'unprotected api'\n",
      " 'poor security/inside job' 'data exposed by misconfiguration'\n",
      " 'zero-day vulnerabilities' 'intentionally lost'\n",
      " 'misconfiguration/poor security' 'ransomware hacked' 'rogue contractor'\n",
      " 'improper setting, hacked' 'hacked/misconfiguration'\n",
      " 'publicly accessible Amazon Web Services (AWS) server'\n",
      " 'accidentally exposed' 'social engineering']\n"
     ]
    }
   ],
   "source": [
    "# Categorical Col\n",
    "categorical_columns = [\"Entity\", \"Organization type\", \"Method\"]\n",
    "\n",
    "for column in categorical_columns:\n",
    "    unique_values = df2[column].unique()\n",
    "    print(f\"Unique values for {column}:\")\n",
    "    print(unique_values)"
   ]
  },
  {
   "cell_type": "code",
   "execution_count": 49,
   "id": "dbf4eb8c",
   "metadata": {},
   "outputs": [
    {
     "name": "stdout",
     "output_type": "stream",
     "text": [
      "                           Entity    Year      Records   Organization type  \\\n",
      "0           21st Century Oncology  2016.0    2200000.0          healthcare   \n",
      "1                           500px  2020.0   14870304.0   social networking   \n",
      "2           Accendo Insurance Co.  2020.0     175350.0          healthcare   \n",
      "3      Adobe Systems Incorporated  2013.0  152000000.0                tech   \n",
      "4                      Adobe Inc.  2019.0    7500000.0                tech   \n",
      "5          Advocate Medical Group  2017.0    4000000.0          healthcare   \n",
      "6  AerServ (subsidiary of InMobi)  2018.0      75000.0         advertising   \n",
      "7      Affinity Health Plan, Inc.  2013.0     344579.0          healthcare   \n",
      "8                          Airtel  2019.0  320000000.0  telecommunications   \n",
      "9                      Air Canada  2018.0      20000.0           transport   \n",
      "\n",
      "                Method  \n",
      "0               hacked  \n",
      "1               hacked  \n",
      "2        poor security  \n",
      "3               hacked  \n",
      "4        poor security  \n",
      "5  lost / stolen media  \n",
      "6               hacked  \n",
      "7  lost / stolen media  \n",
      "8        poor security  \n",
      "9               hacked  \n"
     ]
    }
   ],
   "source": [
    "print(df2.head(10))"
   ]
  },
  {
   "cell_type": "code",
   "execution_count": 50,
   "id": "7c39ec63",
   "metadata": {},
   "outputs": [
    {
     "name": "stdout",
     "output_type": "stream",
     "text": [
      "[2016. 2020. 2013. 2019. 2017. 2018. 2005. 2021. 2015. 2004. 2006. 2014.\n",
      " 2008. 2010. 2009. 2012. 2011. 2007. 2022.]\n"
     ]
    }
   ],
   "source": [
    "# Numermerical plus outliers\n",
    "# Add Record\n",
    "unique_values = df2[\"Year\"].unique()\n",
    "print(unique_values)\n"
   ]
  },
  {
   "cell_type": "code",
   "execution_count": null,
   "id": "cf942b36",
   "metadata": {},
   "outputs": [],
   "source": []
  },
  {
   "cell_type": "code",
   "execution_count": 51,
   "id": "2b891e27",
   "metadata": {},
   "outputs": [
    {
     "ename": "ValueError",
     "evalue": "'explode' must be of length 'x'",
     "output_type": "error",
     "traceback": [
      "\u001b[0;31m---------------------------------------------------------------------------\u001b[0m",
      "\u001b[0;31mValueError\u001b[0m                                Traceback (most recent call last)",
      "Cell \u001b[0;32mIn[51], line 13\u001b[0m\n\u001b[1;32m     10\u001b[0m plt\n\u001b[1;32m     12\u001b[0m plt\u001b[38;5;241m.\u001b[39mfigure(figsize\u001b[38;5;241m=\u001b[39m(\u001b[38;5;241m10\u001b[39m, \u001b[38;5;241m10\u001b[39m))\n\u001b[0;32m---> 13\u001b[0m plt\u001b[38;5;241m.\u001b[39mpie(method_counts,\n\u001b[1;32m     14\u001b[0m     explode\u001b[38;5;241m=\u001b[39m[\u001b[38;5;241m0.05\u001b[39m,\u001b[38;5;241m0.025\u001b[39m,\u001b[38;5;241m0.01\u001b[39m,\u001b[38;5;241m0\u001b[39m,\u001b[38;5;241m0\u001b[39m,\u001b[38;5;241m0\u001b[39m,\u001b[38;5;241m0\u001b[39m,\u001b[38;5;241m0\u001b[39m],\n\u001b[1;32m     15\u001b[0m     labels\u001b[38;5;241m=\u001b[39mmethod_counts\u001b[38;5;241m.\u001b[39mindex, \n\u001b[1;32m     16\u001b[0m     autopct\u001b[38;5;241m=\u001b[39m\u001b[38;5;124m'\u001b[39m\u001b[38;5;132;01m%.1f\u001b[39;00m\u001b[38;5;132;01m%%\u001b[39;00m\u001b[38;5;124m'\u001b[39m)\n\u001b[1;32m     17\u001b[0m plt\u001b[38;5;241m.\u001b[39mtitle(\u001b[38;5;124m'\u001b[39m\u001b[38;5;124mPercentage of Methods Used\u001b[39m\u001b[38;5;124m'\u001b[39m)\n\u001b[1;32m     18\u001b[0m plt\u001b[38;5;241m.\u001b[39mtight_layout()\n",
      "File \u001b[0;32m~/anaconda3/lib/python3.11/site-packages/matplotlib/pyplot.py:2799\u001b[0m, in \u001b[0;36mpie\u001b[0;34m(x, explode, labels, colors, autopct, pctdistance, shadow, labeldistance, startangle, radius, counterclock, wedgeprops, textprops, center, frame, rotatelabels, normalize, hatch, data)\u001b[0m\n\u001b[1;32m   2792\u001b[0m \u001b[38;5;129m@_copy_docstring_and_deprecators\u001b[39m(Axes\u001b[38;5;241m.\u001b[39mpie)\n\u001b[1;32m   2793\u001b[0m \u001b[38;5;28;01mdef\u001b[39;00m \u001b[38;5;21mpie\u001b[39m(\n\u001b[1;32m   2794\u001b[0m         x, explode\u001b[38;5;241m=\u001b[39m\u001b[38;5;28;01mNone\u001b[39;00m, labels\u001b[38;5;241m=\u001b[39m\u001b[38;5;28;01mNone\u001b[39;00m, colors\u001b[38;5;241m=\u001b[39m\u001b[38;5;28;01mNone\u001b[39;00m, autopct\u001b[38;5;241m=\u001b[39m\u001b[38;5;28;01mNone\u001b[39;00m,\n\u001b[0;32m   (...)\u001b[0m\n\u001b[1;32m   2797\u001b[0m         textprops\u001b[38;5;241m=\u001b[39m\u001b[38;5;28;01mNone\u001b[39;00m, center\u001b[38;5;241m=\u001b[39m(\u001b[38;5;241m0\u001b[39m, \u001b[38;5;241m0\u001b[39m), frame\u001b[38;5;241m=\u001b[39m\u001b[38;5;28;01mFalse\u001b[39;00m,\n\u001b[1;32m   2798\u001b[0m         rotatelabels\u001b[38;5;241m=\u001b[39m\u001b[38;5;28;01mFalse\u001b[39;00m, \u001b[38;5;241m*\u001b[39m, normalize\u001b[38;5;241m=\u001b[39m\u001b[38;5;28;01mTrue\u001b[39;00m, hatch\u001b[38;5;241m=\u001b[39m\u001b[38;5;28;01mNone\u001b[39;00m, data\u001b[38;5;241m=\u001b[39m\u001b[38;5;28;01mNone\u001b[39;00m):\n\u001b[0;32m-> 2799\u001b[0m     \u001b[38;5;28;01mreturn\u001b[39;00m gca()\u001b[38;5;241m.\u001b[39mpie(\n\u001b[1;32m   2800\u001b[0m         x, explode\u001b[38;5;241m=\u001b[39mexplode, labels\u001b[38;5;241m=\u001b[39mlabels, colors\u001b[38;5;241m=\u001b[39mcolors,\n\u001b[1;32m   2801\u001b[0m         autopct\u001b[38;5;241m=\u001b[39mautopct, pctdistance\u001b[38;5;241m=\u001b[39mpctdistance, shadow\u001b[38;5;241m=\u001b[39mshadow,\n\u001b[1;32m   2802\u001b[0m         labeldistance\u001b[38;5;241m=\u001b[39mlabeldistance, startangle\u001b[38;5;241m=\u001b[39mstartangle,\n\u001b[1;32m   2803\u001b[0m         radius\u001b[38;5;241m=\u001b[39mradius, counterclock\u001b[38;5;241m=\u001b[39mcounterclock,\n\u001b[1;32m   2804\u001b[0m         wedgeprops\u001b[38;5;241m=\u001b[39mwedgeprops, textprops\u001b[38;5;241m=\u001b[39mtextprops, center\u001b[38;5;241m=\u001b[39mcenter,\n\u001b[1;32m   2805\u001b[0m         frame\u001b[38;5;241m=\u001b[39mframe, rotatelabels\u001b[38;5;241m=\u001b[39mrotatelabels, normalize\u001b[38;5;241m=\u001b[39mnormalize,\n\u001b[1;32m   2806\u001b[0m         hatch\u001b[38;5;241m=\u001b[39mhatch, \u001b[38;5;241m*\u001b[39m\u001b[38;5;241m*\u001b[39m({\u001b[38;5;124m\"\u001b[39m\u001b[38;5;124mdata\u001b[39m\u001b[38;5;124m\"\u001b[39m: data} \u001b[38;5;28;01mif\u001b[39;00m data \u001b[38;5;129;01mis\u001b[39;00m \u001b[38;5;129;01mnot\u001b[39;00m \u001b[38;5;28;01mNone\u001b[39;00m \u001b[38;5;28;01melse\u001b[39;00m {}))\n",
      "File \u001b[0;32m~/anaconda3/lib/python3.11/site-packages/matplotlib/__init__.py:1442\u001b[0m, in \u001b[0;36m_preprocess_data.<locals>.inner\u001b[0;34m(ax, data, *args, **kwargs)\u001b[0m\n\u001b[1;32m   1439\u001b[0m \u001b[38;5;129m@functools\u001b[39m\u001b[38;5;241m.\u001b[39mwraps(func)\n\u001b[1;32m   1440\u001b[0m \u001b[38;5;28;01mdef\u001b[39;00m \u001b[38;5;21minner\u001b[39m(ax, \u001b[38;5;241m*\u001b[39margs, data\u001b[38;5;241m=\u001b[39m\u001b[38;5;28;01mNone\u001b[39;00m, \u001b[38;5;241m*\u001b[39m\u001b[38;5;241m*\u001b[39mkwargs):\n\u001b[1;32m   1441\u001b[0m     \u001b[38;5;28;01mif\u001b[39;00m data \u001b[38;5;129;01mis\u001b[39;00m \u001b[38;5;28;01mNone\u001b[39;00m:\n\u001b[0;32m-> 1442\u001b[0m         \u001b[38;5;28;01mreturn\u001b[39;00m func(ax, \u001b[38;5;241m*\u001b[39m\u001b[38;5;28mmap\u001b[39m(sanitize_sequence, args), \u001b[38;5;241m*\u001b[39m\u001b[38;5;241m*\u001b[39mkwargs)\n\u001b[1;32m   1444\u001b[0m     bound \u001b[38;5;241m=\u001b[39m new_sig\u001b[38;5;241m.\u001b[39mbind(ax, \u001b[38;5;241m*\u001b[39margs, \u001b[38;5;241m*\u001b[39m\u001b[38;5;241m*\u001b[39mkwargs)\n\u001b[1;32m   1445\u001b[0m     auto_label \u001b[38;5;241m=\u001b[39m (bound\u001b[38;5;241m.\u001b[39marguments\u001b[38;5;241m.\u001b[39mget(label_namer)\n\u001b[1;32m   1446\u001b[0m                   \u001b[38;5;129;01mor\u001b[39;00m bound\u001b[38;5;241m.\u001b[39mkwargs\u001b[38;5;241m.\u001b[39mget(label_namer))\n",
      "File \u001b[0;32m~/anaconda3/lib/python3.11/site-packages/matplotlib/axes/_axes.py:3211\u001b[0m, in \u001b[0;36mAxes.pie\u001b[0;34m(self, x, explode, labels, colors, autopct, pctdistance, shadow, labeldistance, startangle, radius, counterclock, wedgeprops, textprops, center, frame, rotatelabels, normalize, hatch)\u001b[0m\n\u001b[1;32m   3209\u001b[0m     \u001b[38;5;28;01mraise\u001b[39;00m \u001b[38;5;167;01mValueError\u001b[39;00m(\u001b[38;5;124m\"\u001b[39m\u001b[38;5;124m'\u001b[39m\u001b[38;5;124mlabel\u001b[39m\u001b[38;5;124m'\u001b[39m\u001b[38;5;124m must be of length \u001b[39m\u001b[38;5;124m'\u001b[39m\u001b[38;5;124mx\u001b[39m\u001b[38;5;124m'\u001b[39m\u001b[38;5;124m\"\u001b[39m)\n\u001b[1;32m   3210\u001b[0m \u001b[38;5;28;01mif\u001b[39;00m \u001b[38;5;28mlen\u001b[39m(x) \u001b[38;5;241m!=\u001b[39m \u001b[38;5;28mlen\u001b[39m(explode):\n\u001b[0;32m-> 3211\u001b[0m     \u001b[38;5;28;01mraise\u001b[39;00m \u001b[38;5;167;01mValueError\u001b[39;00m(\u001b[38;5;124m\"\u001b[39m\u001b[38;5;124m'\u001b[39m\u001b[38;5;124mexplode\u001b[39m\u001b[38;5;124m'\u001b[39m\u001b[38;5;124m must be of length \u001b[39m\u001b[38;5;124m'\u001b[39m\u001b[38;5;124mx\u001b[39m\u001b[38;5;124m'\u001b[39m\u001b[38;5;124m\"\u001b[39m)\n\u001b[1;32m   3212\u001b[0m \u001b[38;5;28;01mif\u001b[39;00m colors \u001b[38;5;129;01mis\u001b[39;00m \u001b[38;5;28;01mNone\u001b[39;00m:\n\u001b[1;32m   3213\u001b[0m     get_next_color \u001b[38;5;241m=\u001b[39m \u001b[38;5;28mself\u001b[39m\u001b[38;5;241m.\u001b[39m_get_patches_for_fill\u001b[38;5;241m.\u001b[39mget_next_color\n",
      "\u001b[0;31mValueError\u001b[0m: 'explode' must be of length 'x'"
     ]
    },
    {
     "data": {
      "image/png": "[encoded data removed]",
      "text/plain": [
       "<Figure size 1000x1000 with 1 Axes>"
      ]
     },
     "metadata": {},
     "output_type": "display_data"
    }
   ],
   "source": [
    "#Pie chart for Qa\n",
    "\n",
    "method_counts = df2['Method'].value_counts()\n",
    "\n",
    "other_threshold = 1  \n",
    "\n",
    "below_thres = method_counts[method_counts / method_counts.sum() * 100 < other_threshold]\n",
    "df2['Method'].replace(below_thres.index, 'other', inplace=True)\n",
    "\n",
    "plt\n",
    "\n",
    "plt.figure(figsize=(10, 10))\n",
    "plt.pie(method_counts,\n",
    "    explode=[0.05,0.025,0.01,0,0,0,0,0],\n",
    "    labels=method_counts.index, \n",
    "    autopct='%.1f%%')\n",
    "plt.title('Percentage of Methods Used')\n",
    "plt.tight_layout()\n",
    "plt.legend()\n",
    "plt.show()"
   ]
  },
  {
   "cell_type": "markdown",
   "id": "2e60a0b2",
   "metadata": {},
   "source": [
    "This pie chart explains the percentages of methods used to cause the data breaches. The majority (54.3%) of breaches were actually hacked and infiltrated, while 12.4% were just due to poor security. The 'other' slice is composed of various smaller percentages (less than zero) that add up to 5.8%."
   ]
  },
  {
   "cell_type": "code",
   "execution_count": null,
   "id": "ea2f3f15",
   "metadata": {},
   "outputs": [],
   "source": [
    "#Bar plot for Qb\n",
    "import seaborn as sns\n",
    "\n",
    "organization_type_counts = df2['Organization type'].value_counts()\n",
    "\n",
    "top_10_organization_types = organization_type_counts.head(10)\n",
    "\n",
    "plt.figure(figsize=(12, 6))\n",
    "sns.barplot(x=top_10_organization_types.index, y=top_10_organization_types.values, palette='viridis')\n",
    "plt.xlabel(\"Organization Type\")\n",
    "plt.ylabel(\"Number of Breaches\")\n",
    "plt.title(\"Top 10 Organization Types by Number of Breaches\")\n",
    "plt.xticks(rotation=45)\n",
    "\n",
    "plt.tight_layout()\n",
    "plt.show()"
   ]
  },
  {
   "cell_type": "markdown",
   "id": "79570332",
   "metadata": {},
   "source": [
    "This graph explains the top ten industries that are most targeted by data breaches. This answerers sub question two by not only listing the mosts targeted, but also gives several others. This shows that threat actors target industries that have the most possible profit. The web industry is most targeted primarily due to the fact that it is easier to exploit than physical locations. Healthcare and financial industries are very profitable and tend to hold more information so they are also frequently targeted. Government organizations are often mainly targeted nation-state/sponsored hackers."
   ]
  },
  {
   "cell_type": "code",
   "execution_count": 52,
   "id": "79da6834",
   "metadata": {},
   "outputs": [
    {
     "data": {
      "image/png": "[encoded data removed]",
      "text/plain": [
       "<Figure size 1000x600 with 1 Axes>"
      ]
     },
     "metadata": {},
     "output_type": "display_data"
    }
   ],
   "source": [
    "# Horizontal Bar Plot for Qc\n",
    "entity_counts = df2['Entity'].value_counts()\n",
    "\n",
    "top_entities = entity_counts.head(10)\n",
    "colors = 'teal', 'lightseagreen', 'mediumturquoise', 'aqua', 'mediumpurple', 'blueviolet', 'palevioletred', 'red', 'crimson', 'firebrick'\n",
    "plt.figure(figsize=(10, 6))\n",
    "top_entities.plot(kind='barh', color=colors)\n",
    "plt.xlabel(\"Number of Breaches\")\n",
    "plt.ylabel(\"Organizations Breaches\")\n",
    "plt.title(f\"Top 10 Organizations Frequently Targeted in Data Breaches\")\n",
    "plt.show()"
   ]
  },
  {
   "cell_type": "markdown",
   "id": "cad7ef1b",
   "metadata": {},
   "source": [
    "Given the information on the graph above, not many entities are targeted more than twice. There is a very obvious outlier here due to Facebook being one of the most controversial and popular social media websites. Considering other social media sites aren't in the top ten, it is safe to believe facebook is targeted due to the mass amount of data collected mixed with the large amount of site traffic. Facebook is not only a social networking site, but it has a marketplace, games, pages, a payment system, and more features."
   ]
  },
  {
   "cell_type": "markdown",
   "id": "40fe1702",
   "metadata": {},
   "source": [
    "Summary:\n",
    "\n",
    "It's important to recognize that there is no foolproof system that is entirely impervious to breaches. Preventing data breaches requires a combination of advanced cybersecurity measures, industry-specific precautions, and a smart approach to entities with substantial data assets. By addressing these issues, organizations can significantly diminish the risk of data breaches and shield sensitive information from unauthorized access.\n",
    "\n",
    "To reduce the risk of data breaches, organizations should focus on strengthening their cybersecurity measures. The most popular method used to breach data was hacking with a percentage of 54.3%. Therefore, implementing robust security protocols, regular system audits, and educating employees about cybersecurity best practices can help prevent such breaches. Social Engineering is the primary cause of data breach hacks. Also, addressing poor security practices within the organization is crucial, emphasizing the importance of strong passwords, access control, and encryption. \n",
    "\n",
    "Industries should plan ahead for potential security breaches and expect the worst-case scenarios to safeguard their data, particularly those that are frequently targeted. The susceptibility of the web industry to breaches is primarily attributed to its digital nature, which makes it more vulnerable to be explited. However, all sectors, especially healthcare and finance, should prioritize cybersecurity because they are prime targets due to the valuable assets they possess. Government organizations must also stay vigilant as they are also targeted by nation-state hackers.\n",
    "\n",
    "While only a limited number of entities experience multiple breaches, it is essential to identify potential outliers. In the case of Facebook, its widespread popularity and extensive data collection make it prime target. To help prevent breaches, organizations with extensive data holdings, diverse functions, and high user engagement, such as Facebook, should strengthen their infrastructure and monitoring systems. Conducting regular security assessments and audits is vital for identifying vulnerabilities in such intricate platforms.\n",
    "\n",
    "This dataset was very informative, however, I would have liked to have a few more informative columns to go along with what is already here. As you can see above, there are only 5 useful columns. Columns that provide information such as, party responsible for the breach, impact on victims, and type of data compromised would be great additions to this dataset. This would also help data cleaning as it would help keep columns data type specific, aiding numerical and categorical variables."
   ]
  }
 ],
 "metadata": {
  "kernelspec": {
   "display_name": "Python 3 (ipykernel)",
   "language": "python",
   "name": "python3"
  },
  "language_info": {
   "codemirror_mode": {
    "name": "ipython",
    "version": 3
   },
   "file_extension": ".py",
   "mimetype": "text/x-python",
   "name": "python",
   "nbconvert_exporter": "python",
   "pygments_lexer": "ipython3",
   "version": "3.11.4"
  }
 },
 "nbformat": 4,
 "nbformat_minor": 5
}
